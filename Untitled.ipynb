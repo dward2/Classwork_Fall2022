{
 "cells": [
  {
   "cell_type": "code",
   "execution_count": 4,
   "id": "dedc9455",
   "metadata": {},
   "outputs": [
    {
     "name": "stdout",
     "output_type": "stream",
     "text": [
      "9\n"
     ]
    }
   ],
   "source": [
    "x = 5\n",
    "a = x + 4\n",
    "print(a)\n"
   ]
  },
  {
   "cell_type": "markdown",
   "id": "1821cb18",
   "metadata": {},
   "source": [
    "# Markdown \n",
    "\n",
    "This is markdown code.\n",
    "\n",
    "__Bold__\n"
   ]
  }
 ],
 "metadata": {
  "kernelspec": {
   "display_name": "Python 3 (ipykernel)",
   "language": "python",
   "name": "python3"
  },
  "language_info": {
   "codemirror_mode": {
    "name": "ipython",
    "version": 3
   },
   "file_extension": ".py",
   "mimetype": "text/x-python",
   "name": "python",
   "nbconvert_exporter": "python",
   "pygments_lexer": "ipython3",
   "version": "3.9.6"
  }
 },
 "nbformat": 4,
 "nbformat_minor": 5
}
